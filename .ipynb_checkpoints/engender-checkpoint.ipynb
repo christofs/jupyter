{
 "cells": [
  {
   "cell_type": "markdown",
   "metadata": {},
   "source": [
    "# \"engender\" -- Das Vokabular weiblicher und männlicher Autoren englischer Romane des 19. Jahrhunderts im Vergleich\n",
    "\n",
    "Dieses Jupyter Notebook erläutert einige Aspekte des Vergleichs von Korpora.\n",
    "\n",
    "Das Notebook heißt \"engender.ipynb\" and ist live unter: http://mybinder.org/repo/christofs/jupyter. Es wurde im Juni 2016 von Christof Schöch erstellt.\n"
   ]
  },
  {
   "cell_type": "markdown",
   "metadata": {},
   "source": [
    "## 1. Einleitung"
   ]
  },
  {
   "cell_type": "markdown",
   "metadata": {},
   "source": [
    "#### Das Thema dieser Lerneinheit"
   ]
  },
  {
   "cell_type": "markdown",
   "metadata": {},
   "source": [
    "Hintergrund zu dieser Übung ist der Vortrag \"Spitzer über Racine, revisited\". Dort wurde unter anderem die Häufigkeit von lexikalischen Mustern in den Tragödien Racines und in Tragödien zeitgenössischer Autoren verglichen. \n",
    "\n",
    "Ganz ähnlich werden hier nun die Häufigkeiten von Lemmata in den Romanen weiblicher und männlicher englischer AutorInnen des 19. Jahrhunderts verglichen. \n",
    "\n",
    "Die verwendete Textsammlung besteht aus 70 Romanen, von denen 35 von Autorinnen und 35 von Autoren verfasst wurden. Einige besonders lange Romane sind in mehrere Teile aufgeteilt worden, sodass insgesamt 120 Dokumente vorhanden sind. Die Textsammlung umfasst etwa 16.7 Millionen Tokens."
   ]
  },
  {
   "cell_type": "markdown",
   "metadata": {},
   "source": [
    "#### Ziele der Lerneinheit"
   ]
  },
  {
   "cell_type": "markdown",
   "metadata": {},
   "source": [
    "Erstens: An einem konkreten Beispiel selbst zu prüfen, ob Männer und Frauen sich in ihrem Sprachgebrauch unterscheiden. Aber Vorsicht! Von dem Beispiel der englischen Romane des 19. Jahrhunderts lässt sich nicht auf die heutige Zeit schließen!\n",
    "\n",
    "Zweitens: Ein Verständnis dafür zu entwickeln, dass die Häufigkeiten von Wortformen oder Lemmata in den verschiedenen Texten einer Textsammlung als Verteilung verstanden werden kann.  \n",
    "\n",
    "Drittens: Zu verstehen, welche Möglichkeiten dies eröffnet: Solche Verteilungen können visualisiert werden, ihre zentralen Eigenschaften können bestimmt werden, und sie können mit geeigneten statistischen Tests verglichen werden.\n",
    "\n",
    "Viertens: Es geht darum, an konkreten Beispielen den Zusammenhang zwischen der Bedeutung eines Wortes, der Visualisierung seiner Verteilung und den statistischen Kennwerten zu erfahren. "
   ]
  },
  {
   "cell_type": "markdown",
   "metadata": {},
   "source": [
    "#### Einige Hinweise zu den Jupyter Notebooks"
   ]
  },
  {
   "cell_type": "markdown",
   "metadata": {},
   "source": [
    "Das vorliegende Dokument ist ein Jupyter Notebook für Python. Es besteht aus Textfeldern und Code-Feldern. Die Code-Felder sind interaktiv, d.h. der enthaltene Code kann ausgeführt werden. Es können auch Veränderungen vorgenommen werden, die sich dann auf das Ergebnis auswirken. \n",
    "\n",
    "Eine Code-Zelle wird ausgeführt, indem man Strg+Enter drückt. Alternativ kann man auf das kleine \"play\"-Symbol in der Taskleiste oben klicken. \n",
    "\n",
    "Die Code-Zellen bauen aufeinander auf, d.h. sie müssen nacheinander ausgeführt werden.\n",
    "\n",
    "Um noch einmal neu zu beginnen und alle Änderungen zu löschen, klickt man im Menü auf \"Cell\", dann ganz unten auf \"All Output\" und dann auf \"Clear\". "
   ]
  },
  {
   "cell_type": "markdown",
   "metadata": {},
   "source": [
    "Bevor es richtig losgehen kann, müssen die folgenden Erweiterungen für Python importiert (d.h., aktiviert) werden. Versuchen Sie gleich einmal, die erste Code-Zelle auszuführen."
   ]
  },
  {
   "cell_type": "code",
   "execution_count": 1,
   "metadata": {
    "collapsed": true
   },
   "outputs": [],
   "source": [
    "import pandas as pd\n",
    "import numpy as np\n",
    "import matplotlib.pyplot as plt\n",
    "import scipy.stats as stats\n",
    "import random\n",
    "%matplotlib inline"
   ]
  },
  {
   "cell_type": "markdown",
   "metadata": {},
   "source": [
    "## 2. Start: Laden der Daten"
   ]
  },
  {
   "cell_type": "markdown",
   "metadata": {},
   "source": [
    "Die für die folgenden Funktionen notwendigen Daten liegen bereits in einer Tabelle vor. Die Tabelle enthält für verschiedene Suchbegriffe die relativen Häufigkeiten in allen Texten der Sammlung.\n",
    "\n",
    "Jede Zeile der Tabelle steht für einen Suchbegriff. Jede Spalte der Tabelle steht für einen Roman, der über ein Kürzel identifiziert ist. In jeder Zelle steht die relative Häufigkeit eines Suchbegriffs für einen Roman. (Die relative Häufigkeit ist die absolute Häufigkeit geteilt durch die Textlänge.)\n",
    "\n",
    "Der folgende Code lädt die Datentabelle und zeigt einen kleinen Ausschnitt daraus an. "
   ]
  },
  {
   "cell_type": "code",
   "execution_count": 62,
   "metadata": {
    "collapsed": false
   },
   "outputs": [
    {
     "name": "stdout",
     "output_type": "stream",
     "text": [
      "               ABronte_Agnes  ABronte_Tenant  Austen_Emma  Austen_Mansfield\n",
      "lemma_george        0.012335        0.004900     0.026298          0.005347\n",
      "lemma_he            8.375788       11.255666     9.193855          8.207854\n",
      "lemma_cecilia       0.000000        0.000000     0.000000          0.000000\n"
     ]
    }
   ],
   "source": [
    "DatenTabelle = \"Data.csv\"\n",
    "with open(DatenTabelle, \"r\") as infile: \n",
    "    Daten = pd.DataFrame.from_csv(infile, sep=\",\")\n",
    "    print(Daten.iloc[0:3,0:4])"
   ]
  },
  {
   "cell_type": "markdown",
   "metadata": {},
   "source": [
    "Tatsächlich ist die Tablle natürlich viel größer. Sie hat 120 Spalten, eine Spalte für jeden Roman. \n",
    "\n",
    "Jetzt können wir genau die Daten auswählen, die uns im Moment interessieren. \n",
    "\n",
    "Erstens müssen wir hierfür wissen, welche Suchbegriffe in der Tabelle enthalten sind. Der folgende Code ruft die Liste der enthaltenen Suchbegriffe ab:"
   ]
  },
  {
   "cell_type": "code",
   "execution_count": 63,
   "metadata": {
    "collapsed": false
   },
   "outputs": [
    {
     "name": "stdout",
     "output_type": "stream",
     "text": [
      "['lemma_george' 'lemma_he' 'lemma_cecilia' 'lemma_of' 'lemma_feeling'\n",
      " 'lemma_phineas' 'lemma_the' 'lemma_she' 'lemma_his' 'lemma_her']\n"
     ]
    }
   ],
   "source": [
    "Suchbegriffe = Daten.index.values\n",
    "print(Suchbegriffe)"
   ]
  },
  {
   "cell_type": "markdown",
   "metadata": {},
   "source": [
    "Außerdem müssen wir festlegen, welche der Romane von Frauen und welche von Männern geschrieben wurden. Diese beiden langen Listen habe ich bereits vorbereitet. "
   ]
  },
  {
   "cell_type": "code",
   "execution_count": 64,
   "metadata": {
    "collapsed": false
   },
   "outputs": [],
   "source": [
    "AlleRomane = [\"ABronte_Agnes\",\"ABronte_Tenant\",\"Austen_Emma\",\"Austen_Mansfield\",\"Austen_Northanger\",\"Austen_Persuasion\",\"Austen_Pride\",\"Austen_Sense\",\"Bennet_Babylon\",\"Bennet_Helen\",\"Bennet_Imperial\",\"Bennett_Agnes\",\"Burney_Camilla\",\"Burney_Cecilia\",\"Burney_Darblay\",\"Burney_Evelina\",\"Burney_Wanderer\",\"CBronte_Jane\",\"CBronte_Professor\",\"CBronte_Shirley\",\"CBronte_Villette\",\"Eliot_Adam\",\"Eliot_Daniel\",\"Eliot_Felix\",\"Eliot_Middlemarch\",\"Eliot_Mill\",\"Eliot_Romola\",\"Eliot_Silas\",\"Gaskell_Barton\",\"Gaskell_Lovers\",\"Gaskell_NorthSouth\",\"Gaskell_Ruth\",\"Gaskell_Wives\",\"Shelley_Frankenstein\",\"Shelley_Lastman\",\"Shelley_Valperga\",\"Dickens_Bleak\",\"Dickens_Cities\",\"Dickens_Curiosity\",\"Dickens_David\",\"Dickens_Dombey\",\"Dickens_Expectations\",\"Dickens_Hard\",\"Dickens_Mutual\",\"Dickens_Nicholas\",\"Dickens_Oliver\",\"Doyle_TheHound\",\"Doyle_TheLostWorld\",\"Hardy_BlueEyes\",\"Hardy_Greenwood\",\"Hardy_Jude\",\"Hardy_Madding\",\"Hardy_Native\",\"Hardy_Tess\",\"Hardy_Woodlanders\",\"Hawthorne_Blithedale\",\"Hawthorne_MarbleFaun\",\"Hawthorne_Scarlet\",\"Hawthorne_SevenGables\",\"Lytton_Barons\",\"Lytton_Harold\",\"Lytton_Pompeii\",\"Lytton_Rienzi\",\"Lytton_Zanoni\",\"Thackeray_Barry\",\"Thackeray_Pendennis\",\"Thackeray_Vanity\",\"Trollope_Barchester\",\"Trollope_Forgive\",\"Trollope_Phineas\",\"Trollope_Prime\",\"Trollope_Redux\",\"Trollope_Thorne\",\"Trollope_Warden\"]\n",
    "random.shuffle(AlleRomane) \n",
    "RomaneW = AlleRomane[:36]\n",
    "RomaneM = AlleRomane[36:]\n",
    "#RomaneW = [\"ABronte_Agnes\",\"ABronte_Tenant\",\"Austen_Emma\",\"Austen_Mansfield\",\"Austen_Northanger\",\"Austen_Persuasion\",\"Austen_Pride\",\"Austen_Sense\",\"Bennet_Babylon\",\"Bennet_Helen\",\"Bennet_Imperial\",\"Bennett_Agnes\",\"Burney_Camilla\",\"Burney_Cecilia\",\"Burney_Darblay\",\"Burney_Evelina\",\"Burney_Wanderer\",\"CBronte_Jane\",\"CBronte_Professor\",\"CBronte_Shirley\",\"CBronte_Villette\",\"Eliot_Adam\",\"Eliot_Daniel\",\"Eliot_Felix\",\"Eliot_Middlemarch\",\"Eliot_Mill\",\"Eliot_Romola\",\"Eliot_Silas\",\"Gaskell_Barton\",\"Gaskell_Lovers\",\"Gaskell_NorthSouth\",\"Gaskell_Ruth\",\"Gaskell_Wives\",\"Shelley_Frankenstein\",\"Shelley_Lastman\",\"Shelley_Valperga\"]\n",
    "#RomaneM = [\"Dickens_Bleak\",\"Dickens_Cities\",\"Dickens_Curiosity\",\"Dickens_David\",\"Dickens_Dombey\",\"Dickens_Expectations\",\"Dickens_Hard\",\"Dickens_Mutual\",\"Dickens_Nicholas\",\"Dickens_Oliver\",\"Doyle_TheHound\",\"Doyle_TheLostWorld\",\"Hardy_BlueEyes\",\"Hardy_Greenwood\",\"Hardy_Jude\",\"Hardy_Madding\",\"Hardy_Native\",\"Hardy_Tess\",\"Hardy_Woodlanders\",\"Hawthorne_Blithedale\",\"Hawthorne_MarbleFaun\",\"Hawthorne_Scarlet\",\"Hawthorne_SevenGables\",\"Lytton_Barons\",\"Lytton_Harold\",\"Lytton_Pompeii\",\"Lytton_Rienzi\",\"Lytton_Zanoni\",\"Thackeray_Barry\",\"Thackeray_Pendennis\",\"Thackeray_Vanity\",\"Trollope_Barchester\",\"Trollope_Forgive\",\"Trollope_Phineas\",\"Trollope_Prime\",\"Trollope_Redux\",\"Trollope_Thorne\",\"Trollope_Warden\"]"
   ]
  },
  {
   "cell_type": "markdown",
   "metadata": {},
   "source": [
    "## 3. Wir wählen eine Suchanfrage aus"
   ]
  },
  {
   "cell_type": "markdown",
   "metadata": {},
   "source": [
    "Auf der Grundlage der vorliegenden Daten können wir nun die relativen Häufigkeiten für einen Begriff und für die weiblichen bzw. die männlichen Autoren aus der Tabelle extrahieren.\n",
    "\n",
    "Im folgenden Code-Feld muss ein Suchbegriff eingetragen werden. Bilden Sie zu einem der Suchbegriffe eine Hypothese und notieren Sie diese in der folgenden Code-Zelle. Dann machen Sie mit der Übung weiter. "
   ]
  },
  {
   "cell_type": "code",
   "execution_count": 65,
   "metadata": {
    "collapsed": false
   },
   "outputs": [
    {
     "name": "stdout",
     "output_type": "stream",
     "text": [
      "Hypothese zu lemma_she: Ich vermute, dass für das Lemma of kein Unterschied zwischen den beiden Romangruppen besteht.\n"
     ]
    }
   ],
   "source": [
    "# Tragen Sie hier den Suchbegriff ein, zu dem Sie eine Hypothese haben.\n",
    "Suchbegriff = \"lemma_she\" \n",
    "\n",
    "# Schreiben Sie hier in knapper Form Ihre Hypothese auf. \n",
    "Hypothese = \"Ich vermute, dass für das Lemma of kein Unterschied zwischen den beiden Romangruppen besteht.\"\n",
    "\n",
    "print(\"Hypothese zu \"+Suchbegriff+\": \"+Hypothese)"
   ]
  },
  {
   "cell_type": "markdown",
   "metadata": {},
   "source": [
    "Jetzt nutzen wir die beiden Listen der Romane und den Suchbegriff, um die entsprechenden Werte aus der Datentabelle zu extrahieren."
   ]
  },
  {
   "cell_type": "code",
   "execution_count": 66,
   "metadata": {
    "collapsed": false
   },
   "outputs": [
    {
     "name": "stdout",
     "output_type": "stream",
     "text": [
      "\n",
      "WerteW\n",
      " Lytton_Rienzi            1.589609\n",
      "Dickens_Mutual           3.969747\n",
      "Eliot_Silas              4.799545\n",
      "CBronte_Shirley         11.191215\n",
      "Bennet_Helen            12.074150\n",
      "Austen_Persuasion       11.707397\n",
      "Burney_Darblay           6.254634\n",
      "Burney_Cecilia          12.568633\n",
      "Doyle_TheHound           1.946686\n",
      "Shelley_Lastman          6.411235\n",
      "Hardy_BlueEyes           7.943775\n",
      "Lytton_Zanoni            3.143647\n",
      "Dickens_Dombey           5.950916\n",
      "Eliot_Adam               9.127412\n",
      "Austen_Emma             11.855234\n",
      "Burney_Wanderer         13.582642\n",
      "Eliot_Middlemarch        7.026039\n",
      "Dickens_Bleak            4.316289\n",
      "Hardy_Greenwood          4.968023\n",
      "Gaskell_NorthSouth      12.885108\n",
      "Shelley_Frankenstein     2.966315\n",
      "Bennett_Agnes            6.789486\n",
      "Austen_Sense            11.013294\n",
      "CBronte_Professor        8.209012\n",
      "Thackeray_Pendennis      5.360916\n",
      "Lytton_Pompeii           4.796870\n",
      "Hawthorne_Scarlet        5.004985\n",
      "Lytton_Harold            1.327432\n",
      "Eliot_Daniel             9.280665\n",
      "Eliot_Romola             6.196655\n",
      "Austen_Northanger       11.957441\n",
      "Hardy_Native             9.490404\n",
      "Trollope_Phineas         6.335202\n",
      "Hardy_Woodlanders       12.382061\n",
      "ABronte_Tenant           6.840622\n",
      "Hawthorne_MarbleFaun     4.711532\n",
      "Name: lemma_she, dtype: float64\n",
      "\n",
      "WerteM\n",
      " Hawthorne_SevenGables     4.337223\n",
      "Trollope_Barchester       9.897641\n",
      "CBronte_Jane              6.409083\n",
      "Burney_Camilla           12.190064\n",
      "Dickens_Expectations      4.042425\n",
      "Gaskell_Ruth             15.099088\n",
      "CBronte_Villette          8.103484\n",
      "Trollope_Forgive         11.717694\n",
      "Trollope_Thorne           8.886469\n",
      "Eliot_Felix               6.031730\n",
      "Hardy_Tess               12.618207\n",
      "Lytton_Barons             1.896445\n",
      "Dickens_Hard              6.491700\n",
      "Doyle_TheLostWorld        0.543146\n",
      "Hardy_Jude                9.877924\n",
      "Trollope_Warden           3.931059\n",
      "Bennet_Imperial          11.749372\n",
      "ABronte_Agnes             7.685001\n",
      "Hardy_Madding             7.895496\n",
      "Thackeray_Vanity          8.854359\n",
      "Gaskell_Barton           12.975970\n",
      "Dickens_David             6.208935\n",
      "Austen_Mansfield         11.961543\n",
      "Trollope_Redux            5.670703\n",
      "Thackeray_Barry           4.052359\n",
      "Shelley_Valperga          9.154641\n",
      "Austen_Pride             11.846098\n",
      "Dickens_Oliver            2.885104\n",
      "Dickens_Nicholas          3.242821\n",
      "Bennet_Babylon            4.873060\n",
      "Burney_Evelina            5.744679\n",
      "Hawthorne_Blithedale      5.054695\n",
      "Dickens_Cities            2.761149\n",
      "Eliot_Mill                8.007018\n",
      "Gaskell_Wives            12.932284\n",
      "Gaskell_Lovers           10.693029\n",
      "Dickens_Curiosity         5.201715\n",
      "Trollope_Prime            7.779246\n",
      "Name: lemma_she, dtype: float64\n"
     ]
    }
   ],
   "source": [
    "WerteW = Daten.loc[Suchbegriff, RomaneW]\n",
    "WerteM = Daten.loc[Suchbegriff, RomaneM]\n",
    "\n",
    "print(\"\\nWerteW\\n\", WerteW)\n",
    "print(\"\\nWerteM\\n\", WerteM)"
   ]
  },
  {
   "cell_type": "markdown",
   "metadata": {},
   "source": [
    "## 4. Visualisierung als Verteilungen"
   ]
  },
  {
   "cell_type": "markdown",
   "metadata": {},
   "source": [
    "Die obigen Listen der Häufigkeiten sind etwas unübersichtlich. \n",
    "\n",
    "Zunächst visualisieren wir daher die beiden Verteilungen gemeinsam, um einen ersten Eindruck ihres Verhältnisses zueinander zu bekommen. Hierfür bieten sich sowohl Boxplots als auch Histogramme an."
   ]
  },
  {
   "cell_type": "code",
   "execution_count": 67,
   "metadata": {
    "collapsed": false
   },
   "outputs": [
    {
     "data": {
      "image/png": "[encoded data removed]",
      "text/plain": [
       "<matplotlib.figure.Figure at 0x7fbf41254ac8>"
      ]
     },
     "metadata": {},
     "output_type": "display_data"
    },
    {
     "data": {
      "image/png": "[encoded data removed]",
      "text/plain": [
       "<matplotlib.figure.Figure at 0x7fbf3f801c18>"
      ]
     },
     "metadata": {},
     "output_type": "display_data"
    },
    {
     "data": {
      "image/png": "[encoded data removed]",
      "text/plain": [
       "<matplotlib.figure.Figure at 0x7fbf3f744c18>"
      ]
     },
     "metadata": {},
     "output_type": "display_data"
    }
   ],
   "source": [
    "# Zwei Boxplots\n",
    "Daten = [WerteW, WerteM]\n",
    "plt.boxplot(Daten, vert=False)\n",
    "plt.title(\"Boxplot für: \"+str(Suchbegriff))\n",
    "plt.xlabel(\"Häufigkeiten pro 1000 Tokens\")\n",
    "plt.yticks([1, 2], ['W', 'M'])\n",
    "plt.show()\n",
    "\n",
    "# Doppeltes Histogramm\n",
    "plt.hist([WerteW,WerteM], 12, histtype=\"bar\", label=[\"W\",\"M\"])\n",
    "plt.title(\"Histogramm für: \"+str(Suchbegriff))\n",
    "plt.xlabel(\"Häufigkeiten pro 1000 Tokens\")\n",
    "plt.ylabel(\"Anteil der Romane\")\n",
    "plt.legend()\n",
    "plt.show()\n",
    "#plt.hist(WerteM, 12, histtype=\"bar\", color=(0, 0, 1, 0.2))\n",
    "#plt.show()\n",
    "\n",
    "# Doppeltes Histogramm mit Dichteschätzung \n",
    "import seaborn as sns\n",
    "sns.distplot(WerteW, rug=False, kde=True, bins=15, label=\"W\")\n",
    "sns.distplot(WerteM, rug=False, kde=True, bins=15, label=\"M\")\n",
    "plt.title(\"Histogramm für: \"+str(Suchbegriff))\n",
    "plt.xlabel(\"Häufigkeiten pro 1000 Tokens\")\n",
    "plt.ylabel(\"Anteil der Romane\")\n",
    "plt.legend()\n",
    "plt.show()"
   ]
  },
  {
   "cell_type": "markdown",
   "metadata": {},
   "source": [
    "## 5. Statistische Eigenschaften der Verteilungen"
   ]
  },
  {
   "cell_type": "markdown",
   "metadata": {},
   "source": [
    "Verteilungen kann man durch bestimmte Kennwerte beschreiben. Für sehr viele Verteilungen sind der Mittelwert, der Median und die Standardabweichung wichtige Kennwerte. \n",
    "\n",
    "Das ist auch für die hier vorliegenden Verteilungen nützlich, allerdings sind sie durch diese Kennwerte allerdings nicht vollständig beschrieben."
   ]
  },
  {
   "cell_type": "markdown",
   "metadata": {},
   "source": [
    "#### 1. Mittelwerte"
   ]
  },
  {
   "cell_type": "code",
   "execution_count": 68,
   "metadata": {
    "collapsed": false
   },
   "outputs": [
    {
     "name": "stdout",
     "output_type": "stream",
     "text": [
      "Mittelwert W: 7.38818957722 \n",
      "Mittelwert M: 7.61322782866\n"
     ]
    }
   ],
   "source": [
    "MittelW = np.mean(WerteW)\n",
    "MittelM = np.mean(WerteM)\n",
    "print(\"Mittelwert W:\", MittelW, \"\\nMittelwert M:\", MittelM)"
   ]
  },
  {
   "cell_type": "markdown",
   "metadata": {},
   "source": [
    "#### 2. Mediane"
   ]
  },
  {
   "cell_type": "code",
   "execution_count": 54,
   "metadata": {
    "collapsed": false
   },
   "outputs": [
    {
     "name": "stdout",
     "output_type": "stream",
     "text": [
      "Median W: 9.2176530742\n",
      "Median M: 5.0298397581\n"
     ]
    }
   ],
   "source": [
    "MedianW = np.median(WerteW)\n",
    "MedianM = np.median(WerteM)\n",
    "print(\"Median W:\", MedianW)\n",
    "print(\"Median M:\", MedianM)"
   ]
  },
  {
   "cell_type": "markdown",
   "metadata": {},
   "source": [
    "#### 3. Das Verhältnis der Mittelwerte / Mediane"
   ]
  },
  {
   "cell_type": "code",
   "execution_count": 55,
   "metadata": {
    "collapsed": false
   },
   "outputs": [
    {
     "name": "stdout",
     "output_type": "stream",
     "text": [
      "Verhältnis der Mittelwerte : 1.64443428726\n",
      "Verhältnis der Mediane : 1.8325937838\n"
     ]
    }
   ],
   "source": [
    "VerhMittel = MittelW/MittelM\n",
    "print(\"Verhältnis der Mittelwerte :\", VerhMittel)\n",
    "VerhMedian = MedianW/MedianM\n",
    "print(\"Verhältnis der Mediane :\", VerhMedian)"
   ]
  },
  {
   "cell_type": "markdown",
   "metadata": {},
   "source": [
    "#### 4. Standardabweichung"
   ]
  },
  {
   "cell_type": "code",
   "execution_count": 56,
   "metadata": {
    "collapsed": false
   },
   "outputs": [
    {
     "name": "stdout",
     "output_type": "stream",
     "text": [
      "Standardabweichung W: 3.02177080009\n",
      "Standardabweichung M: 3.04803066371\n"
     ]
    }
   ],
   "source": [
    "StandardabweichungW = np.std(WerteW)\n",
    "StandardabweichungM = np.std(WerteM)\n",
    "print(\"Standardabweichung W:\", StandardabweichungW)\n",
    "print(\"Standardabweichung M:\", StandardabweichungM)"
   ]
  },
  {
   "cell_type": "markdown",
   "metadata": {},
   "source": [
    "## 6. Statistische Tests"
   ]
  },
  {
   "cell_type": "markdown",
   "metadata": {},
   "source": [
    "Jetzt können wir statistische Tests um zu prüfen, ob sich die Verteilungen signifikant unterscheiden oder nicht. Wir wenden der Einfachheit halber nur einen Test an, den Welch's t-Test. \n",
    "\n",
    "Mit diesem Test kann man die Null-Hypothese prüfen, dass zwei Verteilungen sich nicht signifikant unterscheiden. Das würde dann auch bedeuten, dass die beiden Verteilungen ebensogut zwei zufällige Samples aus ein und der Selben Verteilung sein könnten. \n",
    "\n",
    "In unserem Kontext entspricht die Null-Hypothese dem Befund, dass die Unterscheidung zwischen männlichen und weiblichen Autoren offenbar nicht wesentlich für die Häufigkeiten des Suchbegriffs ist. \n",
    "\n",
    "Ist der p-Wert des Tests sehr klein, bedeutet das, dass die Wahrscheinlichkeit, dass der beobachtete Unterschied zwischen den beiden Verteilungen durch eine Zufallsschwankung beim Sampeln aus einer einzigen Verteilung entstanden ist, sehr klein ist. Anders ausgedrückt: Wir können in einem solchen Fall die Null-Hypothese ablehnen uns den Schluss ziehen, dass sich die männlichen und weiblichen Romanautoren in der Verwendung des Suchbegriffs tatsächlich signifikant unterscheiden. "
   ]
  },
  {
   "cell_type": "markdown",
   "metadata": {},
   "source": [
    "#### 1. Der Welch's t-Test"
   ]
  },
  {
   "cell_type": "markdown",
   "metadata": {},
   "source": [
    "Welch's t-Test ist geeignet für Fälle, in denen Mittelwert, Varianz und Länge zweier zu vergleichender Verteilungen unterschiedlich sind. Dies ist hier der Fall. Allerdings nimmt dieser Test auch an, dass die Verteilungen normalverteilt sind, d.h. eine Glockenform haben und nicht nach rechts oder links verzerrt sind. Davon kann hier nicht mit Sicherheit ausgegangen werden. \n",
    " \n",
    "Dokumentation: http://docs.scipy.org/doc/scipy-0.14.0/reference/generated/scipy.stats.ttest_ind.html"
   ]
  },
  {
   "cell_type": "code",
   "execution_count": 57,
   "metadata": {
    "collapsed": false
   },
   "outputs": [
    {
     "name": "stdout",
     "output_type": "stream",
     "text": [
      "Statistik: 5.14512995145 \n",
      "   P-Wert:  2.2314660036e-06\n"
     ]
    }
   ],
   "source": [
    "Welch = stats.ttest_ind(WerteW, WerteM, equal_var=False)\n",
    "print(\"Statistik:\", Welch[0], \"\\n   P-Wert: \", Welch[1])"
   ]
  },
  {
   "cell_type": "markdown",
   "metadata": {},
   "source": [
    "#### 2. Der Wilcoxon Rank-Sum Test"
   ]
  },
  {
   "cell_type": "markdown",
   "metadata": {},
   "source": [
    "Dieser Test erfordert nicht, dass die Verteilungen normalverteilt sind und ist somit auf jeden Fall für unsere Daten geeignet.  \n",
    "\n",
    "Dokumentation: http://docs.scipy.org/doc/scipy-0.14.0/reference/generated/scipy.stats.wilcoxon.html"
   ]
  },
  {
   "cell_type": "code",
   "execution_count": 58,
   "metadata": {
    "collapsed": false
   },
   "outputs": [
    {
     "name": "stdout",
     "output_type": "stream",
     "text": [
      "Statistik: 0.521929824561 \n",
      "   P-Wert: 4.22334419497e-05\n"
     ]
    }
   ],
   "source": [
    "#Wilcoxon = stats.wilcoxon(WerteW, WerteM)\n",
    "#print(\"Statistik:\", Wilcoxon[0], \"\\n   P-Wert:\", Wilcoxon[1])\n",
    "\n",
    "Kolmogorov = stats.ks_2samp(WerteW, WerteM)\n",
    "print(\"Statistik:\", Kolmogorov[0], \"\\n   P-Wert:\", Kolmogorov[1])\n"
   ]
  },
  {
   "cell_type": "code",
   "execution_count": null,
   "metadata": {
    "collapsed": true
   },
   "outputs": [],
   "source": []
  }
 ],
 "metadata": {
  "celltoolbar": "Raw Cell Format",
  "kernelspec": {
   "display_name": "Python 3",
   "language": "python",
   "name": "python3"
  },
  "language_info": {
   "codemirror_mode": {
    "name": "ipython",
    "version": 3
   },
   "file_extension": ".py",
   "mimetype": "text/x-python",
   "name": "python",
   "nbconvert_exporter": "python",
   "pygments_lexer": "ipython3",
   "version": "3.5.1+"
  }
 },
 "nbformat": 4,
 "nbformat_minor": 0
}
