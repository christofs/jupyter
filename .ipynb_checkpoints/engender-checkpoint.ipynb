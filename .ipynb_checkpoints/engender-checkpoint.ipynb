{
 "cells": [
  {
   "cell_type": "markdown",
   "metadata": {},
   "source": [
    "(Dieses Jupyter Notebook ist live unter: http://mybinder.org/repo/christofs/jupyter.)\n",
    "\n",
    "### \"engender\" -- Das Vokabular weiblicher und männlicher Autoren englischer Romane des 19. Jahrhunderts im Vergleich\n",
    "\n",
    "Dieses Jupyter Notebook erläutert einige Aspekte des Vergleichs von Korpora."
   ]
  },
  {
   "cell_type": "code",
   "execution_count": 125,
   "metadata": {
    "collapsed": true
   },
   "outputs": [],
   "source": [
    "import pandas as pd\n",
    "import numpy as np\n",
    "import matplotlib.pyplot as plt\n",
    "import scipy.stats as stats\n",
    "%matplotlib inline"
   ]
  },
  {
   "cell_type": "markdown",
   "metadata": {},
   "source": [
    "Hintergrund zu dieser Übung ist der Vortrag \"Spitzer über Racine, revisited\". \n",
    "\n",
    "Dort wurde unter anderem die Häufigkeit von lexikalischen Mustern in den Tragödien Racines und in Tragödien zeitgenössischer Autoren verglichen. \n",
    "\n",
    "Ganz ähnlich werden hier nun die Häufigkeiten von Wortformen oder Lemmata in den Romanen weiblicher und männlicher englischer Autoren verglichen. \n",
    "\n",
    "Die verwendete Textsammlung besteht aus 70 Romanen, von denen 35 von weiblichen Autoren und 35 von männlichen Autoren verfasst wurden. Einige besonders lange Romane sind in mehrere Teile aufgeteilt worden, sodass insgesamt 120 Dokumente vorhanden sind. Die Textsammlung umfasst etwa 16.7 Millionen Tokens. "
   ]
  },
  {
   "cell_type": "markdown",
   "metadata": {},
   "source": [
    "Ziel der Übung ist es erstens, diese Häufigkeiten von Wortformen oder Lemmata als Verteilungen zu verstehen. \n",
    "\n",
    "Als solche können sie dann nicht nur visualisiert, sondern auch statistisch verglichen werden. \n",
    "\n",
    "Dabei prüft man, wie wahrscheinlich es ist, dass die beiden untersuchten Verteilungen tatsächlich aus einer gemeinsamen Verteilung stammen.\n",
    "\n",
    "Wenn die Unterschiede zwischen zwei Verteilungen allein durch zufällige Schwankungen beim Sampeln der Verteilungen erklärbar sind, dann ist kein statistisch signifikanter Unterschied der Verteilungen zu erkennen. "
   ]
  },
  {
   "cell_type": "markdown",
   "metadata": {},
   "source": [
    "### Laden der Daten"
   ]
  },
  {
   "cell_type": "markdown",
   "metadata": {},
   "source": [
    "Die Daten liegen bereits in einer Tabelle vor. Die Tabelle enthält für verschiedene Suchbegriffe die relativen Häufigkeiten in allen Texten der Sammlung.\n",
    "\n",
    "Jede Zeile der Tabelle steht für einen Suchbegriff. Jede Spalte der Tabelle steht für einen Roman, der über ein Kürzel identifiziert ist. In jeder Zelle steht die relative Häufigkeit eines Suchbegriffs für einen Roman. (Die relative Häufigkeit ist die absolute Häufigkeit geteilt durch die Textlänge.)\n",
    "\n",
    "Der folgende Code lädt die Datentabelle und zeigt einen kleinen Ausschnitt daraus an. "
   ]
  },
  {
   "cell_type": "code",
   "execution_count": 138,
   "metadata": {
    "collapsed": false
   },
   "outputs": [
    {
     "name": "stdout",
     "output_type": "stream",
     "text": [
      "               ABronte_Agnes  ABronte_Tenant  Austen_Emma  Austen_Mansfield\n",
      "lemma_george        0.012335        0.004900     0.026298          0.005347\n",
      "lemma_he            8.375788       11.255666     9.193855          8.207854\n",
      "lemma_cecilia       0.000000        0.000000     0.000000          0.000000\n"
     ]
    }
   ],
   "source": [
    "DatenTabelle = \"Data.csv\"\n",
    "with open(DatenTabelle, \"r\") as infile: \n",
    "    Daten = pd.DataFrame.from_csv(infile, sep=\",\")\n",
    "    print(Daten.iloc[0:3,0:4])"
   ]
  },
  {
   "cell_type": "markdown",
   "metadata": {},
   "source": [
    "Jetzt können wir genau die Daten auswählen, die uns im Moment interessieren. \n",
    "\n",
    "Erstens müssen wir hierfür wissen, welche Suchbegriffe in der Tabelle enthalten sind. Der folgende Code ruft die Liste der enthaltenen Suchbegriffe ab:"
   ]
  },
  {
   "cell_type": "code",
   "execution_count": 123,
   "metadata": {
    "collapsed": false
   },
   "outputs": [
    {
     "name": "stdout",
     "output_type": "stream",
     "text": [
      "['lemma_george' 'lemma_he' 'lemma_cecilia' 'lemma_of' 'lemma_feeling'\n",
      " 'lemma_phineas' 'lemma_the' 'lemma_she' 'lemma_his' 'lemma_her']\n"
     ]
    }
   ],
   "source": [
    "Suchbegriffe = Daten.index.values\n",
    "print(Suchbegriffe)"
   ]
  },
  {
   "cell_type": "markdown",
   "metadata": {},
   "source": [
    "Außerdem müssen wir festlegen, welche der Romane von Frauen und welche von Männern geschrieben wurden. Diese beiden langen Listen habe ich bereits vorbereitet. "
   ]
  },
  {
   "cell_type": "code",
   "execution_count": 124,
   "metadata": {
    "collapsed": true
   },
   "outputs": [],
   "source": [
    "#RomaneW = [\"ABronte_Agnes\",\"ABronte_Tenant\",\"Austen_Emma\",\"Austen_Mansfield\",\"Austen_Northanger\",\"Austen_Persuasion\",\"Austen_Pride\",\"Austen_Sense\",\"Bennet_Babylon\",\"Bennet_Helen\",\"Bennet_Imperial1\",\"Bennet_Imperial2\",\"Bennet_Imperial3\",\"Bennett_Agnes\",\"Burney_Camilla1\",\"Burney_Camilla2\",\"Burney_Camilla3\",\"Burney_Camilla4\",\"Burney_Cecilia1\",\"Burney_Cecilia2\",\"Burney_Cecilia3\",\"Burney_Cecilia4\",\"Burney_Darblay1\",\"Burney_Darblay2\",\"Burney_Darblay3\",\"Burney_Darblay4\",\"Burney_Evelina1\",\"Burney_Evelina2\",\"Burney_Evelina3\",\"Burney_Evelina4\",\"Burney_Wanderer\",\"CBronte_Jane\",\"CBronte_Professor\",\"CBronte_Shirley1\",\"CBronte_Shirley2\",\"CBronte_Villette\",\"Eliot_Adam\",\"Eliot_Daniel1\",\"Eliot_Daniel2\",\"Eliot_Daniel3\",\"Eliot_Felix\",\"Eliot_Middlemarch1\",\"Eliot_Middlemarch2\",\"Eliot_Middlemarch3\",\"Eliot_Middlemarch4\",\"Eliot_Mill\",\"Eliot_Romola1\",\"Eliot_Romola2\",\"Eliot_Romola3\",\"Eliot_Silas\",\"Gaskell_Barton\",\"Gaskell_Lovers\",\"Gaskell_NorthSouth\",\"Gaskell_Ruth\",\"Gaskell_Wives1\",\"Gaskell_Wives2\",\"Gaskell_Wives3\",\"Shelley_Frankenstein\",\"Shelley_Lastman\",\"Shelley_Valperga\"] \n",
    "#RomaneM = [\"Dickens_Bleak1\",\"Dickens_Bleak2\",\"Dickens_Bleak3\",\"Dickens_Bleak4\",\"Dickens_Cities\",\"Dickens_Curiosity\",\"Dickens_David1\",\"Dickens_David2\",\"Dickens_David3\",\"Dickens_David4\",\"Dickens_Dombey1\",\"Dickens_Dombey2\",\"Dickens_Dombey3\",\"Dickens_Dombey4\",\"Dickens_Expectations\",\"Dickens_Hard\",\"Dickens_Mutual1\",\"Dickens_Mutual2\",\"Dickens_Mutual3\",\"Dickens_Nicholas1\",\"Dickens_Nicholas2\",\"Dickens_Nicholas3\",\"Dickens_Nicholas4\",\"Dickens_Oliver\",\"Doyle_Study\",\"Doyle_TheHound\",\"Doyle_TheLostWorld\",\"Hardy_BlueEyes\",\"Hardy_Greenwood\",\"Hardy_Jude\",\"Hardy_Madding\",\"Hardy_Native\",\"Hardy_Tess\",\"Hardy_Woodlanders\",\"Hawthorne_Blithedale\",\"Hawthorne_Fanshawe\",\"Hawthorne_MarbleFaun\",\"Hawthorne_Scarlet\",\"Hawthorne_SevenGables\",\"Lytton_Barons\",\"Lytton_Harold\",\"Lytton_Pompeii\",\"Lytton_Rienzi\",\"Lytton_Zanoni\",\"Thackeray_Barry\",\"Thackeray_Pendennis1\",\"Thackeray_Pendennis2\",\"Thackeray_Pendennis3\",\"Thackeray_Pendennis4\",\"Thackeray_Vanity1\",\"Thackeray_Vanity2\",\"Thackeray_Vanity3\",\"Trollope_Barchester\",\"Trollope_Forgive1\",\"Trollope_Forgive2\",\"Trollope_Forgive3\",\"Trollope_Phineas\",\"Trollope_Prime1\",\"Trollope_Prime2\",\"Trollope_Redux\",\"Trollope_Thorne\",\"Trollope_Warden\"]  \n",
    "\n",
    "RomaneW = [\"ABronte_Agnes\",\"ABronte_Tenant\",\"Austen_Emma\",\"Austen_Mansfield\",\"Austen_Northanger\",\"Austen_Persuasion\",\"Austen_Pride\",\"Austen_Sense\",\"Bennet_Babylon\",\"Bennet_Helen\",\"Bennet_Imperial\",\"Bennett_Agnes\",\"Burney_Camilla\",\"Burney_Cecilia\",\"Burney_Darblay\",\"Burney_Evelina\",\"Burney_Wanderer\",\"CBronte_Jane\",\"CBronte_Professor\",\"CBronte_Shirley\",\"CBronte_Villette\",\"Eliot_Adam\",\"Eliot_Daniel\",\"Eliot_Felix\",\"Eliot_Middlemarch\",\"Eliot_Mill\",\"Eliot_Romola\",\"Eliot_Silas\",\"Gaskell_Barton\",\"Gaskell_Lovers\",\"Gaskell_NorthSouth\",\"Gaskell_Ruth\",\"Gaskell_Wives\",\"Shelley_Frankenstein\",\"Shelley_Lastman\",\"Shelley_Valperga\"]\n",
    "RomaneM = [\"Dickens_Bleak\",\"Dickens_Cities\",\"Dickens_Curiosity\",\"Dickens_David\",\"Dickens_Dombey\",\"Dickens_Expectations\",\"Dickens_Hard\",\"Dickens_Mutual\",\"Dickens_Nicholas\",\"Dickens_Oliver\",\"Doyle_TheHound\",\"Doyle_TheLostWorld\",\"Hardy_BlueEyes\",\"Hardy_Greenwood\",\"Hardy_Jude\",\"Hardy_Madding\",\"Hardy_Native\",\"Hardy_Tess\",\"Hardy_Woodlanders\",\"Hawthorne_Blithedale\",\"Hawthorne_MarbleFaun\",\"Hawthorne_Scarlet\",\"Hawthorne_SevenGables\",\"Lytton_Barons\",\"Lytton_Harold\",\"Lytton_Pompeii\",\"Lytton_Rienzi\",\"Lytton_Zanoni\",\"Thackeray_Barry\",\"Thackeray_Pendennis\",\"Thackeray_Vanity\",\"Trollope_Barchester\",\"Trollope_Forgive\",\"Trollope_Phineas\",\"Trollope_Prime\",\"Trollope_Redux\",\"Trollope_Thorne\",\"Trollope_Warden\"]"
   ]
  },
  {
   "cell_type": "markdown",
   "metadata": {},
   "source": [
    "Auf dieser Grundlage können wir nun die relativen Häufigkeiten für einen Begriff und für die weiblichen bzw. die männlichen Autoren aus der Tabelle extrahieren."
   ]
  },
  {
   "cell_type": "code",
   "execution_count": 139,
   "metadata": {
    "collapsed": false
   },
   "outputs": [
    {
     "name": "stdout",
     "output_type": "stream",
     "text": [
      "\n",
      "WerteW\n",
      " ABronte_Agnes           30.456289\n",
      "ABronte_Tenant          29.053044\n",
      "Austen_Emma             27.003003\n",
      "Austen_Mansfield        33.125508\n",
      "Austen_Northanger       34.620579\n",
      "Austen_Persuasion       34.037415\n",
      "Austen_Pride            30.060692\n",
      "Austen_Sense            29.011148\n",
      "Bennet_Babylon          46.203826\n",
      "Bennet_Helen            39.833845\n",
      "Bennet_Imperial         45.818718\n",
      "Bennett_Agnes           44.593526\n",
      "Burney_Camilla          34.422527\n",
      "Burney_Cecilia          29.702007\n",
      "Burney_Darblay          34.361464\n",
      "Burney_Evelina          28.899993\n",
      "Burney_Wanderer         35.033554\n",
      "CBronte_Jane            34.159974\n",
      "CBronte_Professor       36.062711\n",
      "CBronte_Shirley         34.217606\n",
      "CBronte_Villette        35.269452\n",
      "Eliot_Adam              39.392403\n",
      "Eliot_Daniel            36.379982\n",
      "Eliot_Felix             40.234910\n",
      "Eliot_Middlemarch       33.651736\n",
      "Eliot_Mill              34.639664\n",
      "Eliot_Romola            52.030467\n",
      "Eliot_Silas             42.982591\n",
      "Gaskell_Barton          35.191779\n",
      "Gaskell_Lovers          37.392338\n",
      "Gaskell_NorthSouth      31.341171\n",
      "Gaskell_Ruth            37.150047\n",
      "Gaskell_Wives           31.510103\n",
      "Shelley_Frankenstein    49.090760\n",
      "Shelley_Lastman         56.081071\n",
      "Shelley_Valperga        53.771243\n",
      "Name: lemma_the, dtype: float64\n",
      "\n",
      "WerteM\n",
      " Dickens_Bleak            34.637290\n",
      "Dickens_Cities           48.229670\n",
      "Dickens_Curiosity        44.415525\n",
      "Dickens_David            30.938480\n",
      "Dickens_Dombey           38.921336\n",
      "Dickens_Expectations     36.115002\n",
      "Dickens_Hard             33.076757\n",
      "Dickens_Mutual           36.007385\n",
      "Dickens_Nicholas         37.282436\n",
      "Dickens_Oliver           48.031445\n",
      "Doyle_TheHound           47.246220\n",
      "Doyle_TheLostWorld       50.342861\n",
      "Hardy_BlueEyes           42.737256\n",
      "Hardy_Greenwood          45.915726\n",
      "Hardy_Jude               40.497760\n",
      "Hardy_Madding            46.363505\n",
      "Hardy_Native             45.575055\n",
      "Hardy_Tess               49.379059\n",
      "Hardy_Woodlanders        45.461371\n",
      "Hawthorne_Blithedale     41.897557\n",
      "Hawthorne_MarbleFaun     50.520446\n",
      "Hawthorne_Scarlet        52.275405\n",
      "Hawthorne_SevenGables    50.254505\n",
      "Lytton_Barons            62.464740\n",
      "Lytton_Harold            71.575820\n",
      "Lytton_Pompeii           66.194576\n",
      "Lytton_Rienzi            64.866015\n",
      "Lytton_Zanoni            60.743374\n",
      "Thackeray_Barry          48.621594\n",
      "Thackeray_Pendennis      44.463932\n",
      "Thackeray_Vanity         48.556342\n",
      "Trollope_Barchester      43.702290\n",
      "Trollope_Forgive         30.773714\n",
      "Trollope_Phineas         32.743025\n",
      "Trollope_Prime           36.930539\n",
      "Trollope_Redux           42.828734\n",
      "Trollope_Thorne          33.609869\n",
      "Trollope_Warden          45.626254\n",
      "Name: lemma_the, dtype: float64\n"
     ]
    }
   ],
   "source": [
    "# Veränderbar!\n",
    "Suchbegriff = \"lemma_the\" \n",
    "\n",
    "WerteW = Daten.loc[Suchbegriff, RomaneW]\n",
    "WerteM = Daten.loc[Suchbegriff, RomaneM]\n",
    "\n",
    "print(\"\\nWerteW\\n\", WerteW)\n",
    "print(\"\\nWerteM\\n\", WerteM)"
   ]
  },
  {
   "cell_type": "markdown",
   "metadata": {},
   "source": [
    "### Visualisierung als Verteilungen"
   ]
  },
  {
   "cell_type": "markdown",
   "metadata": {},
   "source": [
    "Zunächst visualisieren wir die beiden Verteilungen gemeinsam, um einen ersten Eindruck ihres Verhältnisses zueinander zu bekommen. Hierfür bieten sich sowohl Boxplots als auch Histogramme an."
   ]
  },
  {
   "cell_type": "code",
   "execution_count": 140,
   "metadata": {
    "collapsed": false
   },
   "outputs": [
    {
     "data": {
      "image/png": "[encoded data removed]",
      "text/plain": [
       "<matplotlib.figure.Figure at 0x7f5796caf4a8>"
      ]
     },
     "metadata": {},
     "output_type": "display_data"
    },
    {
     "data": {
      "image/png": "[encoded data removed]",
      "text/plain": [
       "<matplotlib.figure.Figure at 0x7f57984712e8>"
      ]
     },
     "metadata": {},
     "output_type": "display_data"
    },
    {
     "data": {
      "image/png": "[encoded data removed]",
      "text/plain": [
       "<matplotlib.figure.Figure at 0x7f57983e9e10>"
      ]
     },
     "metadata": {},
     "output_type": "display_data"
    }
   ],
   "source": [
    "# Zwei Histogramme\n",
    "plt.hist([WerteW,WerteM], 12, histtype=\"bar\")\n",
    "plt.show()\n",
    "#plt.hist(WerteM, 12, histtype=\"bar\", color=(0, 0, 1, 0.2))\n",
    "#plt.show()\n",
    "\n",
    "# Zwei Boxplots\n",
    "Daten = [WerteW, WerteM]\n",
    "plt.boxplot(Daten, vert=False)\n",
    "plt.show()\n",
    "\n",
    "# Seaborn Histogramm\n",
    "import seaborn as sns\n",
    "sns.distplot(WerteW, rug=False, kde=True, bins=15)\n",
    "sns.distplot(WerteM, rug=False, kde=True, bins=15)\n",
    "plt.show()"
   ]
  },
  {
   "cell_type": "markdown",
   "metadata": {},
   "source": [
    "### Statistische Eigenschaften der Verteilungen\n",
    "Mittelwert, Median, Standardabweichung."
   ]
  },
  {
   "cell_type": "markdown",
   "metadata": {},
   "source": [
    "#### 1. Mittelwerte"
   ]
  },
  {
   "cell_type": "code",
   "execution_count": 141,
   "metadata": {
    "collapsed": false
   },
   "outputs": [
    {
     "name": "stdout",
     "output_type": "stream",
     "text": [
      "Mittelwert W: 37.1329763439 \n",
      "Mittelwert M: 45.5216544492\n"
     ]
    }
   ],
   "source": [
    "MittelW = np.mean(WerteW)\n",
    "MittelM = np.mean(WerteM)\n",
    "print(\"Mittelwert W:\", MittelW, \"\\nMittelwert M:\", MittelM)"
   ]
  },
  {
   "cell_type": "markdown",
   "metadata": {},
   "source": [
    "#### 2. Mediane"
   ]
  },
  {
   "cell_type": "code",
   "execution_count": 129,
   "metadata": {
    "collapsed": false
   },
   "outputs": [
    {
     "name": "stdout",
     "output_type": "stream",
     "text": [
      "Median W: 9.2176530742\n",
      "Median M: 5.0298397581\n"
     ]
    }
   ],
   "source": [
    "MedianW = np.median(WerteW)\n",
    "MedianM = np.median(WerteM)\n",
    "print(\"Median W:\", MedianW)\n",
    "print(\"Median M:\", MedianM)"
   ]
  },
  {
   "cell_type": "markdown",
   "metadata": {},
   "source": [
    "#### 3. Das Verhältnis der Mittelwerte / Mediane"
   ]
  },
  {
   "cell_type": "code",
   "execution_count": 130,
   "metadata": {
    "collapsed": false
   },
   "outputs": [
    {
     "name": "stdout",
     "output_type": "stream",
     "text": [
      "Verhältnis der Mittelwerte : 1.64443428726\n",
      "Verhältnis der Mediane : 1.8325937838\n"
     ]
    }
   ],
   "source": [
    "VerhMittel = MittelW/MittelM\n",
    "print(\"Verhältnis der Mittelwerte :\", VerhMittel)\n",
    "VerhMedian = MedianW/MedianM\n",
    "print(\"Verhältnis der Mediane :\", VerhMedian)"
   ]
  },
  {
   "cell_type": "markdown",
   "metadata": {},
   "source": [
    "#### 4. Standardabweichung"
   ]
  },
  {
   "cell_type": "code",
   "execution_count": 131,
   "metadata": {
    "collapsed": false
   },
   "outputs": [
    {
     "name": "stdout",
     "output_type": "stream",
     "text": [
      "Standardabweichung W: 3.02177080009\n",
      "Standardabweichung M: 3.04803066371\n"
     ]
    }
   ],
   "source": [
    "StandardabweichungW = np.std(WerteW)\n",
    "StandardabweichungM = np.std(WerteM)\n",
    "print(\"Standardabweichung W:\", StandardabweichungW)\n",
    "print(\"Standardabweichung M:\", StandardabweichungM)"
   ]
  },
  {
   "cell_type": "markdown",
   "metadata": {},
   "source": [
    "### Ein erster Vergleich"
   ]
  },
  {
   "cell_type": "markdown",
   "metadata": {},
   "source": [
    "### Test, ob die Verteilungen sich wirklich unterscheiden"
   ]
  },
  {
   "cell_type": "markdown",
   "metadata": {},
   "source": [
    "Jetzt können wir statistische Tests anwenden, und zwar gleich mehrere. Dann sehen wir, wie sich die verschiedenen Test unter verschiedenen Bedingungen verhalten."
   ]
  },
  {
   "cell_type": "markdown",
   "metadata": {},
   "source": [
    "#### 1. Den t-Test (Welch's t-Test)"
   ]
  },
  {
   "cell_type": "markdown",
   "metadata": {},
   "source": [
    "Welch's t-Test ist geeignet für Fälle, in denen die Varianz und die Länge zweier zu vergleichender Verteilungen unterschiedlich sind. Beides ist hier der Fall.\n",
    "\n",
    "Dokumentation: http://docs.scipy.org/doc/scipy-0.14.0/reference/generated/scipy.stats.ttest_ind.html"
   ]
  },
  {
   "cell_type": "code",
   "execution_count": 132,
   "metadata": {
    "collapsed": false
   },
   "outputs": [
    {
     "name": "stdout",
     "output_type": "stream",
     "text": [
      "Statistik: 5.14512995145 \n",
      "   P-Wert:  2.2314660036e-06\n"
     ]
    }
   ],
   "source": [
    "Welch = stats.ttest_ind(WerteW, WerteM, equal_var=False)\n",
    "print(\"Statistik:\", Welch[0], \"\\n   P-Wert: \", Welch[1])"
   ]
  },
  {
   "cell_type": "markdown",
   "metadata": {},
   "source": [
    "#### 2. Den Wilcoxon Rank-Sum Test"
   ]
  },
  {
   "cell_type": "markdown",
   "metadata": {},
   "source": [
    "Dokumentation: http://docs.scipy.org/doc/scipy-0.14.0/reference/generated/scipy.stats.wilcoxon.html"
   ]
  },
  {
   "cell_type": "code",
   "execution_count": 133,
   "metadata": {
    "collapsed": false
   },
   "outputs": [
    {
     "name": "stdout",
     "output_type": "stream",
     "text": [
      "Statistik: 0.521929824561 \n",
      "   P-Wert: 4.22334419497e-05\n"
     ]
    }
   ],
   "source": [
    "#Wilcoxon = stats.wilcoxon(WerteW, WerteM)\n",
    "#print(\"Statistik:\", Wilcoxon[0], \"\\n   P-Wert:\", Wilcoxon[1])\n",
    "\n",
    "Kolmogorov = stats.ks_2samp(WerteW, WerteM)\n",
    "print(\"Statistik:\", Kolmogorov[0], \"\\n   P-Wert:\", Kolmogorov[1])\n"
   ]
  },
  {
   "cell_type": "code",
   "execution_count": null,
   "metadata": {
    "collapsed": true
   },
   "outputs": [],
   "source": []
  }
 ],
 "metadata": {
  "celltoolbar": "Raw Cell Format",
  "kernelspec": {
   "display_name": "Python 3",
   "language": "python",
   "name": "python3"
  },
  "language_info": {
   "codemirror_mode": {
    "name": "ipython",
    "version": 3
   },
   "file_extension": ".py",
   "mimetype": "text/x-python",
   "name": "python",
   "nbconvert_exporter": "python",
   "pygments_lexer": "ipython3",
   "version": "3.5.1+"
  }
 },
 "nbformat": 4,
 "nbformat_minor": 0
}
