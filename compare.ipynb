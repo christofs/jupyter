{
"cell_type": "markdown",
"metadata": {},
"source": [
"Python is a high-level open-source language.  But the *Python world* is inhabited by many packages or libraries that provide useful things like array operations, plotting functions, and much more. We can import libraries of functions to expand the capabilities of Python in our programs.  \n"
"The following code will be at the top of most of your programs, so execute this cell first:"
]
},
{
"cell_type": "code",
"execution_count": 1,
"metadata": {
"collapsed": false
"outputs": [],
"source": [
"# <-- comments in python are denoted by the pound sign, like this one\n",
"\n",
"import numpy                 # we import the array library\n",
"from matplotlib import pyplot    # import plotting library"
]
},
}
