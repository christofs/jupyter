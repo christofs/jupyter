{
 "cells": [
  {
   "cell_type": "markdown",
   "metadata": {},
   "source": [
    "(Dieses Jupyter Notebook ist live unter: http://mybinder.org/repo/christofs/jupyter.)\n",
    "\n",
    "### Korpora vergleichen\n",
    "\n",
    "Dieses Jupyter Notebook erläutert einige Aspekte des Vergleichs von Korpora."
   ]
  },
  {
   "cell_type": "code",
   "execution_count": 5,
   "metadata": {
    "collapsed": false
   },
   "outputs": [
    {
     "name": "stdout",
     "output_type": "stream",
     "text": [
      "2.33333333333\n",
      "6.28571428571\n",
      "0.371212121212\n"
     ]
    }
   ],
   "source": [
    "import numpy as np \n",
    "\n",
    "counts_A = [1,2,3,4,3,1]\n",
    "counts_B = [2,4,5,8,9,12,4]\n",
    "\n",
    "mean_A = np.mean(counts_A)\n",
    "print(mean_A)\n",
    "\n",
    "mean_B = np.mean(counts_B)\n",
    "print(mean_B)\n",
    "\n",
    "ratioAB = mean_A/mean_B\n",
    "print(ratioAB)\n",
    "\n",
    "\n"
   ]
  },
  {
   "cell_type": "markdown",
   "metadata": {
    "collapsed": true
   },
   "source": [
    "Man kann eine Normalverteilung mit einem bestimmten Mittelwert und einer bestimmten Varianz genierieren."
   ]
  },
  {
   "cell_type": "code",
   "execution_count": 76,
   "metadata": {
    "collapsed": false
   },
   "outputs": [],
   "source": [
    "import random\n",
    "\n",
    "mu = 0\n",
    "sigma = 10\n",
    "\n",
    "verteilung1 = []\n",
    "for i in range(0,2000):\n",
    "    x = random.gauss(mu, sigma)\n",
    "    verteilung1.append(x)\n",
    "#print(verteilung1)"
   ]
  },
  {
   "cell_type": "markdown",
   "metadata": {},
   "source": [
    "Diese Verteilung wollen wir jetzt visualisieren. \n",
    "Dokumentation: http://matplotlib.org/api/pyplot_api.html#matplotlib.pyplot.hist"
   ]
  },
  {
   "cell_type": "code",
   "execution_count": 42,
   "metadata": {
    "collapsed": false
   },
   "outputs": [],
   "source": [
    "import matplotlib.pyplot as plt\n",
    "\n",
    "plt.hist(verteilung1, 50)\n",
    "plt.show()"
   ]
  },
  {
   "cell_type": "markdown",
   "metadata": {},
   "source": [
    "Was ist wenn wir zwei Verteilungen haben? \n",
    "Generieren wir also eine zweite Verteilung mit leicht veränderten Eckdaten."
   ]
  },
  {
   "cell_type": "code",
   "execution_count": 77,
   "metadata": {
    "collapsed": true
   },
   "outputs": [],
   "source": [
    "mu = 0\n",
    "sigma = 3\n",
    "\n",
    "verteilung2 = []\n",
    "for i in range(0,2000):\n",
    "    x = random.gauss(mu, sigma)\n",
    "    verteilung2.append(x)\n",
    "#print(verteilung1)"
   ]
  },
  {
   "cell_type": "markdown",
   "metadata": {},
   "source": [
    "Und visualisieren wir beide gemeinsam."
   ]
  },
  {
   "cell_type": "code",
   "execution_count": 79,
   "metadata": {
    "collapsed": false
   },
   "outputs": [],
   "source": [
    "import matplotlib.pyplot as plt\n",
    "\n",
    "plt.hist(verteilung1, 100, histtype=\"stepfilled\", color=(1, 1, 0, 0.2))\n",
    "plt.hist(verteilung2, 100, histtype=\"stepfilled\", color=(0, 0, 1, 0.2))\n",
    "plt.show()"
   ]
  }
 ],
 "metadata": {
  "celltoolbar": "Raw Cell Format",
  "kernelspec": {
   "display_name": "Python 3",
   "language": "python",
   "name": "python3"
  },
  "language_info": {
   "codemirror_mode": {
    "name": "ipython",
    "version": 3
   },
   "file_extension": ".py",
   "mimetype": "text/x-python",
   "name": "python",
   "nbconvert_exporter": "python",
   "pygments_lexer": "ipython3",
   "version": "3.5.1+"
  }
 },
 "nbformat": 4,
 "nbformat_minor": 0
}
