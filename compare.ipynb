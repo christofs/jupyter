{
 "cells": [
  {
   "cell_type": "markdown",
   "metadata": {},
   "source": [
    "(Dieses Jupyter Notebook ist live unter: http://mybinder.org/repo/christofs/jupyter.)\n",
    "\n",
    "### Korpora vergleichen\n",
    "\n",
    "Dieses Jupyter Notebook erläutert einige Aspekte des Vergleichs von Korpora."
   ]
  },
  {
   "cell_type": "code",
   "execution_count": null,
   "metadata": {
    "collapsed": true
   },
   "outputs": [],
   "source": [
    "import pandas as pd\n",
    "import numpy as np\n",
    "import matplotlib.pyplot as plt\n",
    "%matplotlib inline"
   ]
  },
  {
   "cell_type": "markdown",
   "metadata": {},
   "source": [
    "Zunächst laden wir einen Datensatz."
   ]
  },
  {
   "cell_type": "markdown",
   "metadata": {},
   "source": [
    "Motivation: Kommt ein Wort häufiger bei Racine vor als bei seinen Zeitgenossen? Trinken die Deutschen mehr Bier als die Polen? "
   ]
  },
  {
   "cell_type": "markdown",
   "metadata": {},
   "source": [
    "Das folgende Tutorial fokussiert darauf, wie Verteilungen generiert und mit verschiedenen statistischen Tests daraufhin überprüft werden können, wie ähnlich sich die beiden Verteilungen sind. \n",
    "\n",
    "Anders ausgedrückt prüft man, wie wahrscheinlich es ist, dass die beiden untersuchten Verteilungen tatsächlich aus einer gemeinsamen Verteilung stammen.\n",
    "\n",
    "Wenn die Unterschiede zwischen zwei Verteilungen allein durch zufällige Schwankungen beim Sampeln der Verteilungen erklärbar sind, dann ist kein statistisch signifikanter Unterschied der Verteilungen zu erkennen. "
   ]
  },
  {
   "cell_type": "markdown",
   "metadata": {},
   "source": [
    "### Generieren von Verteilungen"
   ]
  },
  {
   "cell_type": "markdown",
   "metadata": {},
   "source": [
    "Zunächst müssen wir die Verteilungen generieren, die es dann zu vergleichen gilt. \n",
    "\n",
    "Dafür können wir eine Bibliothek einsetzen, die das Generieren von Verteilungen mit gewünschten Eigenschaften erlaubt: scipy.stats. \n",
    "\n",
    "Dokumentation: http://docs.scipy.org/doc/scipy/reference/stats.html"
   ]
  },
  {
   "cell_type": "markdown",
   "metadata": {},
   "source": [
    "Wir definieren zunächst die Parameter der Verteilung:"
   ]
  },
  {
   "cell_type": "code",
   "execution_count": null,
   "metadata": {
    "collapsed": false
   },
   "outputs": [],
   "source": [
    "loc = 10     # = Arithmetisches Mittel\n",
    "scale = 20  # = Standardabweichung"
   ]
  },
  {
   "cell_type": "markdown",
   "metadata": {},
   "source": [
    "Wir generieren die Verteilung und viele Einzelwerte. \n",
    "Hierfür müssen wir (spätestens jetzt) die Bibliothek scipy.stats importieren\n",
    "Außerdem schauen wir uns einige Werte der Verteilung an."
   ]
  },
  {
   "cell_type": "code",
   "execution_count": null,
   "metadata": {
    "collapsed": false
   },
   "outputs": [],
   "source": [
    "import scipy.stats as sts\n",
    "\n",
    "Verteilung = sts.norm(loc, scale) # loc=arithmetisches Mittel, scale = Standardabweichung\n",
    "Werte = Verteilung.rvs(size=5000)\n",
    "print(\"Zehn Einzelwerte:\", Werte[0:10])"
   ]
  },
  {
   "cell_type": "markdown",
   "metadata": {},
   "source": [
    "Wir visualisieren die Werte der Verteilung als Histogramm und als Boxplot.\n",
    "\n",
    "Histogramm: http://matplotlib.org/api/pyplot_api.html#matplotlib.pyplot.hist\n",
    "Boxplot: http://matplotlib.org/api/pyplot_api.html#matplotlib.pyplot.boxplot"
   ]
  },
  {
   "cell_type": "code",
   "execution_count": null,
   "metadata": {
    "collapsed": false
   },
   "outputs": [],
   "source": [
    "# Histogramm\n",
    "plt.hist(Werte, 100)\n",
    "plt.axis([-200, 200, 0, 200])  # x-min, x-max, y-min, y-max \n",
    "plt.show()\n",
    "\n",
    "# Boxplot\n",
    "plt.boxplot(Werte, vert=False)\n",
    "plt.show()"
   ]
  },
  {
   "cell_type": "markdown",
   "metadata": {},
   "source": [
    "Wir extrahieren zur Kontrolle die Eckdaten der Verteilung:"
   ]
  },
  {
   "cell_type": "code",
   "execution_count": null,
   "metadata": {
    "collapsed": false
   },
   "outputs": [],
   "source": [
    "from math import sqrt\n",
    "mean, var, skew = Verteilung.stats(moments='mvs')\n",
    "print(\"mean:\", mean, \"\\nstdv:\", sqrt(var), \"\\nskew:\", skew)"
   ]
  },
  {
   "cell_type": "markdown",
   "metadata": {},
   "source": [
    "Jetzt wird es möglich, mit unterschiedlichen Parametern unterschiedliche Verteilungen zu generieren.\n",
    "Sie folgen immer einer Normalverteilung, aber eben mit spezifischen Mittelwert und Standardabweichung. \n",
    "\n",
    "Probieren Sie es aus! \n",
    "\n",
    "(Hinweis: Falls notwendig, können Sie im Histogramm die Achsenskalen anpassen.)\n"
   ]
  },
  {
   "cell_type": "markdown",
   "metadata": {},
   "source": [
    "### Vergleich von zwei Verteilungen"
   ]
  },
  {
   "cell_type": "markdown",
   "metadata": {},
   "source": [
    "Für den Vergleich zweier Verteilungen müssen wir zunächst zwei Verteilungen generieren und dann statistische Tests anwenden, die diese beiden Verteilungen auf ihre Unterschiedlichkeit hin überprüfen. "
   ]
  },
  {
   "cell_type": "markdown",
   "metadata": {},
   "source": [
    "Zunächst generieren wir also nicht eine, sondern gleich zwei Verteilungen. Entsprechend legen wir auch die Parameter für beide getrennt fest. "
   ]
  },
  {
   "cell_type": "code",
   "execution_count": null,
   "metadata": {
    "collapsed": true
   },
   "outputs": [],
   "source": [
    "# Erste Verteilung\n",
    "loc = 15     # = Arithmetisches Mittel\n",
    "scale = 5  # = Standardabweichung\n",
    "Verteilung = sts.norm(loc, scale) # loc=arithmetisches Mittel, scale = Standardabweichung\n",
    "Werte1 = Verteilung.rvs(size=500)\n",
    "\n",
    "# Zweite Verteilung\n",
    "loc = 25     # = Arithmetisches Mittel\n",
    "scale = 5  # = Standardabweichung\n",
    "Verteilung = sts.norm(loc, scale) # loc=arithmetisches Mittel, scale = Standardabweichung\n",
    "Werte2 = Verteilung.rvs(size=500)"
   ]
  },
  {
   "cell_type": "markdown",
   "metadata": {},
   "source": [
    "Zunächst visualisieren wir die beiden Verteilungen gemeinsam, um einen ersten Eindruck ihres Verhältnisses zueinander zu bekommen."
   ]
  },
  {
   "cell_type": "code",
   "execution_count": null,
   "metadata": {
    "collapsed": false
   },
   "outputs": [],
   "source": [
    "# Zwei Histogramme\n",
    "plt.hist(Werte1, 10, histtype=\"stepfilled\", color=(1, 1, 0, 0.2))\n",
    "plt.hist(Werte2, 10, histtype=\"stepfilled\", color=(0, 0, 1, 0.2))\n",
    "plt.show()\n",
    "\n",
    "# Zwei Boxplots\n",
    "Daten = [Werte1, Werte2]\n",
    "plt.boxplot(Daten, vert=False)\n",
    "plt.show()"
   ]
  },
  {
   "cell_type": "markdown",
   "metadata": {},
   "source": [
    "Jetzt können wir statistische Tests anwenden, und zwar gleich mehrere. Dann sehen wir, wie sich die verschiedenen Test unter verschiedenen Bedingungen verhalten."
   ]
  },
  {
   "cell_type": "markdown",
   "metadata": {},
   "source": [
    "#### 1. Das Verhältnis der Mittelwerte (VM)"
   ]
  },
  {
   "cell_type": "code",
   "execution_count": null,
   "metadata": {
    "collapsed": false
   },
   "outputs": [],
   "source": [
    "MW1 = np.mean(Werte1)\n",
    "MW2 = np.mean(Werte2)\n",
    "Verhältnis = MW1/MW2\n",
    "print(\"Mittelwert1 :\", MW1, \"\\nMittelwert2 :\", MW2, \"\\n Verhältnis :\", Verhältnis)"
   ]
  },
  {
   "cell_type": "markdown",
   "metadata": {},
   "source": [
    "#### 2. Den t-Test (Welch's t-Test)"
   ]
  },
  {
   "cell_type": "markdown",
   "metadata": {},
   "source": [
    "Dokumentation: http://docs.scipy.org/doc/scipy-0.14.0/reference/generated/scipy.stats.ttest_ind.html"
   ]
  },
  {
   "cell_type": "code",
   "execution_count": null,
   "metadata": {
    "collapsed": false
   },
   "outputs": [],
   "source": [
    "Welch = sts.ttest_ind(Werte1, Werte2, equal_var=False)\n",
    "print(\"Statistik:\", Welch[0], \"\\n   P-Wert:\", Welch[1])"
   ]
  },
  {
   "cell_type": "markdown",
   "metadata": {},
   "source": [
    "#### 3. Den Wilcoxon Rank-Sum Test"
   ]
  },
  {
   "cell_type": "code",
   "execution_count": null,
   "metadata": {
    "collapsed": false
   },
   "outputs": [],
   "source": [
    "Wilcoxon = sts.wilcoxon(Werte1, Werte2)\n",
    "print(\"Statistik:\", Wilcoxon[0], \"\\n   P-Wert:\", Wilcoxon[1])"
   ]
  },
  {
   "cell_type": "markdown",
   "metadata": {},
   "source": [
    "Jetzt sollten wir wieder die Werte der Verteilungen variieren. \n",
    "\n",
    "1. Verändern Sie einmal die Mittelwerte der beiden Verteilungen, einmal recht start, einmal recht schwach. Was zeigen die Indikatoren?\n",
    "\n",
    "2. Stellen Sie außerdem einmal eine unterschiedliche Varianz (\"scale\") für die beiden Verteilungen ein. Was passiert nun? \n",
    "\n",
    "3. Wie interagieren diese beiden Manipulationen? Wie würden Sie den Einfluss der beiden Manipulationen auf das Ergebnis beschreiben?"
   ]
  }
 ],
 "metadata": {
  "celltoolbar": "Raw Cell Format",
  "kernelspec": {
   "display_name": "Python 3",
   "language": "python",
   "name": "python3"
  },
  "language_info": {
   "codemirror_mode": {
    "name": "ipython",
    "version": 3
   },
   "file_extension": ".py",
   "mimetype": "text/x-python",
   "name": "python",
   "nbconvert_exporter": "python",
   "pygments_lexer": "ipython3",
   "version": "3.5.1+"
  }
 },
 "nbformat": 4,
 "nbformat_minor": 0
}
