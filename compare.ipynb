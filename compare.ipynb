{
 "cells": [
  {
   "cell_type": "markdown",
   "metadata": {},
   "source": [
    "(Dieses Jupyter Notebook ist live unter: http://mybinder.org/repo/christofs/jupyter.)\n",
    "\n",
    "### Korpora vergleichen\n",
    "\n",
    "Dieses Jupyter Notebook erläutert einige Aspekte des Vergleichs von Korpora."
   ]
  },
  {
   "cell_type": "code",
   "execution_count": 5,
   "metadata": {
    "collapsed": false
   },
   "outputs": [
    {
     "name": "stdout",
     "output_type": "stream",
     "text": [
      "2.33333333333\n",
      "6.28571428571\n",
      "0.371212121212\n"
     ]
    }
   ],
   "source": [
    "import numpy as np \n",
    "\n",
    "counts_A = [1,2,3,4,3,1]\n",
    "counts_B = [2,4,5,8,9,12,4]\n",
    "\n",
    "mean_A = np.mean(counts_A)\n",
    "print(mean_A)\n",
    "\n",
    "mean_B = np.mean(counts_B)\n",
    "print(mean_B)\n",
    "\n",
    "ratioAB = mean_A/mean_B\n",
    "print(ratioAB)\n",
    "\n",
    "\n"
   ]
  },
  {
   "cell_type": "code",
   "execution_count": 81,
   "metadata": {
    "collapsed": true
   },
   "outputs": [],
   "source": [
    "import pandas as pd\n",
    "import numpy as np"
   ]
  },
  {
   "cell_type": "markdown",
   "metadata": {},
   "source": [
    "Zunächst laden wir einen Datensatz."
   ]
  },
  {
   "cell_type": "code",
   "execution_count": 84,
   "metadata": {
    "collapsed": false
   },
   "outputs": [
    {
     "name": "stdout",
     "output_type": "stream",
     "text": [
      "         F  tc0093  tc0094  tc0096  tc0098  tc0101  tc0113  tc0114  tc0115  \\\n",
      "word                                                                         \n",
      "crime  726      13       1      16       4      41      13       8      14   \n",
      "\n",
      "       tc0116   ...    tc0651  tc0653  tc0654  tc0655  tc0656  tc0657  tc0658  \\\n",
      "word            ...                                                             \n",
      "crime       3   ...         9       3       7       3      11       6       6   \n",
      "\n",
      "       tc0659  tc0661  tc0664  \n",
      "word                           \n",
      "crime       9      17      23  \n",
      "\n",
      "[1 rows x 50 columns]\n"
     ]
    }
   ],
   "source": [
    "DatensatzDatei = \"./data/sourdine_crime.csv\"\n",
    "with open(DatensatzDatei, \"r\") as infile: \n",
    "    Daten = pd.DataFrame.from_csv(infile, sep=\";\")\n",
    "print(Daten)"
   ]
  },
  {
   "cell_type": "markdown",
   "metadata": {},
   "source": [
    "Um überhaupt einen Eindruck davon zu bekommen, wie das Merkmal \"crime\" in der gesamten Textsammlung verteilt ist, können wir einen Plot generieren. "
   ]
  },
  {
   "cell_type": "code",
   "execution_count": 98,
   "metadata": {
    "collapsed": false
   },
   "outputs": [
    {
     "name": "stdout",
     "output_type": "stream",
     "text": [
      "Counts: [13, 1, 16, 4, 41, 13, 8, 14, 3, 10, 13, 13, 9, 12, 5, 6, 21, 12, 12, 7, 40, 9, 39, 57, 14, 13, 41, 19, 59, 16, 1, 37, 4, 10, 7, 21, 1, 4, 7, 9, 3, 7, 3, 11, 6, 6, 9, 17, 23]\n",
      "file:///tmp/tmpm7v2xv9e.html\n"
     ]
    }
   ],
   "source": [
    "import pygal\n",
    "Counts = Daten.iloc[0,1:].values.tolist()\n",
    "print(\"Counts:\", Counts)\n",
    "\n",
    "plt.hist(Counts, 12)\n",
    "plt.show()\n",
    "\n",
    "box = pygal.Box()\n",
    "box.add(\"Counts\", Counts)\n",
    "box.render_in_browser()\n",
    "box.render_to_file(\"boxplot.svg\")"
   ]
  },
  {
   "cell_type": "markdown",
   "metadata": {
    "collapsed": true
   },
   "source": [
    "Man kann eine Normalverteilung mit einem bestimmten Mittelwert und einer bestimmten Varianz genierieren."
   ]
  },
  {
   "cell_type": "code",
   "execution_count": 99,
   "metadata": {
    "collapsed": false
   },
   "outputs": [],
   "source": [
    "import random\n",
    "\n",
    "mu = 0\n",
    "sigma = 10\n",
    "\n",
    "verteilung1 = []\n",
    "for i in range(0,2000):\n",
    "    x = random.gauss(mu, sigma)\n",
    "    verteilung1.append(x)\n",
    "#print(verteilung1)"
   ]
  },
  {
   "cell_type": "markdown",
   "metadata": {},
   "source": [
    "Diese Verteilung wollen wir jetzt visualisieren. \n",
    "Dokumentation: http://matplotlib.org/api/pyplot_api.html#matplotlib.pyplot.hist"
   ]
  },
  {
   "cell_type": "code",
   "execution_count": 100,
   "metadata": {
    "collapsed": false
   },
   "outputs": [],
   "source": [
    "import matplotlib.pyplot as plt\n",
    "\n",
    "plt.hist(verteilung1, 50)\n",
    "plt.show()"
   ]
  },
  {
   "cell_type": "markdown",
   "metadata": {},
   "source": [
    "Was ist wenn wir zwei Verteilungen haben? \n",
    "Generieren wir also eine zweite Verteilung mit leicht veränderten Eckdaten."
   ]
  },
  {
   "cell_type": "code",
   "execution_count": 101,
   "metadata": {
    "collapsed": true
   },
   "outputs": [],
   "source": [
    "mu = 0\n",
    "sigma = 3\n",
    "\n",
    "verteilung2 = []\n",
    "for i in range(0,2000):\n",
    "    x = random.gauss(mu, sigma)\n",
    "    verteilung2.append(x)\n",
    "#print(verteilung1)"
   ]
  },
  {
   "cell_type": "markdown",
   "metadata": {},
   "source": [
    "Und visualisieren wir beide gemeinsam."
   ]
  },
  {
   "cell_type": "code",
   "execution_count": 102,
   "metadata": {
    "collapsed": false
   },
   "outputs": [],
   "source": [
    "import matplotlib.pyplot as plt\n",
    "\n",
    "plt.hist(verteilung1, 100, histtype=\"stepfilled\", color=(1, 1, 0, 0.2))\n",
    "plt.hist(verteilung2, 100, histtype=\"stepfilled\", color=(0, 0, 1, 0.2))\n",
    "plt.show()"
   ]
  }
 ],
 "metadata": {
  "celltoolbar": "Raw Cell Format",
  "kernelspec": {
   "display_name": "Python 3",
   "language": "python",
   "name": "python3"
  },
  "language_info": {
   "codemirror_mode": {
    "name": "ipython",
    "version": 3
   },
   "file_extension": ".py",
   "mimetype": "text/x-python",
   "name": "python",
   "nbconvert_exporter": "python",
   "pygments_lexer": "ipython3",
   "version": "3.5.1+"
  }
 },
 "nbformat": 4,
 "nbformat_minor": 0
}
